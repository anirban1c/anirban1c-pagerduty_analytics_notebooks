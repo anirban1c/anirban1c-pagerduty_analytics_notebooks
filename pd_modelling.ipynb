{
 "cells": [
  {
   "cell_type": "code",
   "execution_count": null,
   "metadata": {
    "collapsed": true,
    "pycharm": {
     "is_executing": false,
     "name": "#%% setup credentials \n"
    }
   },
   "outputs": [],
   "source": [
    "import os\n",
    "import json\n",
    "import pandas as pd\n",
    "from addict import Dict\n",
    "import dateutil\n",
    "from datetime import datetime, timedelta\n",
    "from functools import lru_cache\n",
    "from pdpyras import APISession\n"
   ]
  },
  {
   "cell_type": "code",
   "execution_count": null,
   "outputs": [],
   "source": [
    "import datetime\n",
    "from dateutil import parser\n",
    "#assert 'PD_PAT' in os.environ, 'No API_key'\n",
    "## if this fails then export\n",
    "## export PD_PAT=<API KEY>\n",
    "## or get it from a file and put it in env\n",
    "with open('pd_models/config.json') as c:\n",
    "    os.environ['PD_PAT'] = json.load(c)['PD_PAT']"
   ],
   "metadata": {
    "collapsed": false,
    "pycharm": {
     "name": "#%%\n",
     "is_executing": false
    }
   }
  },
  {
   "cell_type": "code",
   "execution_count": null,
   "outputs": [],
   "source": [
    "sess = APISession(api_key=os.environ.get('PD_PAT'))\n",
    "next = False\n",
    "all_incidents = []\n",
    "offset = 0\n",
    "models = {}"
   ],
   "metadata": {
    "collapsed": false,
    "pycharm": {
     "name": "#%%\n",
     "is_executing": false
    }
   }
  },
  {
   "cell_type": "code",
   "execution_count": null,
   "outputs": [],
   "source": [
    "\n",
    "def make(obj, filter=None):\n",
    "    offset=0\n",
    "    more = False\n",
    "    params = {}\n",
    "    paged = False\n",
    "    sess.headers.update({'X-EARLY-ACCESS' : 'UNDER CONSTRUCTION'})\n",
    "    print('Headers : {} '.format(sess.headers))\n",
    "    if filter:\n",
    "        params.update(filter)\n",
    "    print('params {} '.format(params))\n",
    "\n",
    "\n",
    "    while True:\n",
    "            if 'notes' not in obj:\n",
    "                more = paged = True\n",
    "                params.update({'total': True, 'offset' : offset })\n",
    "            _p = sess.get('{}'.format(obj), json=params)\n",
    "            if _p :\n",
    "                _j = json.loads(_p.content)\n",
    "                if 'total' in _j:\n",
    "                    print('Total: {} , More : {}, Offset {}, Limit {} '.format(_j['total'],\n",
    "                                                                               _j['more'],\n",
    "                                                                               _j['offset'],\n",
    "                                                                               _j['limit']))\n",
    "                    print('Calling {}, offset: {} '.format(obj, offset))\n",
    "                    more = _j['more']\n",
    "                obj_name = obj.split('/')[-1]\n",
    "                print('Model Object name : {} {}'.format(obj_name, \"dddd\"))\n",
    "                for _d in _j[obj_name]:\n",
    "                    #print('dict : {} '.format(_j))\n",
    "                    yield ModelBase(obj_name[:-1], (), _d)\n",
    "                # more = _j['more']\n",
    "                if not more:\n",
    "                    break\n",
    "                offset += 25\n"
   ],
   "metadata": {
    "collapsed": false,
    "pycharm": {
     "name": "#%%\n",
     "is_executing": false
    }
   }
  },
  {
   "cell_type": "code",
   "execution_count": null,
   "outputs": [],
   "source": [
    "class ModelBase(type):\n",
    "\n",
    "    def __new__(cls, name, bases, dict):\n",
    "        for k,v in dict.items():\n",
    "            setattr(cls, k, v)\n",
    "            models[name] = cls = super(ModelBase, cls).__new__(cls, name, bases, dict)\n",
    "            return cls\n",
    "\n",
    "    def __repr__(self):\n",
    "         return ('id={}'.format(self.id))\n",
    "\n",
    "class ModelObjet(metaclass=ModelBase):\n",
    "\n",
    "    def stop(self):\n",
    "        pass\n",
    "\n",
    "class BaseObj(metaclass=ModelBase):\n",
    "\n",
    "    def __init__(self, **kwargs):\n",
    "        super(BaseObj, self).__init__(names, (), **kwargs)\n",
    "\n",
    "    def _get_data(self, uri):\n",
    "        _p = json.loads(self.session.get('{}'.format(uri)).content)\n",
    "        _slice = list(_p.keys())[0]\n",
    "        return _p[_slice]\n",
    "\n",
    "    def __repr__(self):\n",
    "        return ('id={}'.format(self.id))\n"
   ],
   "metadata": {
    "collapsed": false,
    "pycharm": {
     "name": "#%% fall through with the rest\n",
     "is_executing": false
    }
   }
  },
  {
   "cell_type": "code",
   "execution_count": null,
   "outputs": [],
   "source": [
    "# build a model for a date range\n",
    "startdate = dateutil.parser.parse(\"20/06/2020 12:00:00\").isoformat()\n",
    "enddate = dateutil.parser.parse('25/06/2020 12:00:00').isoformat()\n",
    "team_filter = 'AO'"
   ],
   "metadata": {
    "collapsed": false,
    "pycharm": {
     "name": "#%%\n",
     "is_executing": false
    }
   }
  },
  {
   "cell_type": "code",
   "execution_count": null,
   "outputs": [],
   "source": [
    "# build incident filter to get all relevant incidents\n",
    "incident_filter = {\n",
    "        'since': '{}'.format(startdate),\n",
    "        'until': '{}'.format(enddate),\n",
    "        'team_ids': [],\n",
    "}\n",
    "\n",
    "print('Incident filter : {}'.format(incident_filter))"
   ],
   "metadata": {
    "collapsed": false,
    "pycharm": {
     "name": "#%%\n",
     "is_executing": false
    }
   }
  },
  {
   "cell_type": "code",
   "execution_count": null,
   "outputs": [],
   "source": [
    "# lookup all teams with the team filter\n",
    "teams = [t for t in make('/teams') if team_filter or 'AO' in t.name]\n",
    "\n",
    "print('Got AO teams {}'.format(teams))"
   ],
   "metadata": {
    "collapsed": false,
    "pycharm": {
     "name": "#%%\n",
     "is_executing": false
    }
   }
  },
  {
   "cell_type": "code",
   "execution_count": null,
   "metadata": {},
   "outputs": [],
   "source": []
  },
  {
   "cell_type": "code",
   "execution_count": null,
   "metadata": {},
   "outputs": [],
   "source": []
  },
  {
   "cell_type": "code",
   "execution_count": null,
   "outputs": [],
   "source": [
    "cols = {'team name': [],\n",
    "            'incident id': [],\n",
    "            'incident no':[],\n",
    "            'priority' : [],\n",
    "            'service': [],\n",
    "            'created at':[],\n",
    "            'status':[],\n",
    "            'alert_all_triggered': [],\n",
    "            #'resolve_reason': [],\n",
    "            'title':[]\n",
    "            }"
   ],
   "metadata": {
    "collapsed": false,
    "pycharm": {
     "name": "#%%\n",
     "is_executing": false
    }
   }
  },
  {
   "cell_type": "code",
   "execution_count": null,
   "outputs": [],
   "source": [
    "for t in teams:\n",
    "        incident_filter.update({'team_ids' : [t.id]})\n",
    "        for i in make('/incidents', filter=incident_filter):\n",
    "            cols['team name'].append(t.name)\n",
    "            cols['incident id'].append(i.id)\n",
    "            cols['incident no'].append(i.incident_number)\n",
    "            if i.priority:\n",
    "                cols['priority'].append(i.priority['summary'])\n",
    "            else:\n",
    "                cols['priority'].append('N/A')\n",
    "            cols['service'].append(i.service['summary'])\n",
    "            cols['created at'].append(i.created_at)\n",
    "            cols['alert_all_triggered'].append(i.alert_counts['all'])\n",
    "            # if 'resolve_reason' in i and i.resolve_reason:\n",
    "            #     cols['resolve_reason'].append(i.resolve_reason['type'])\n",
    "            # else:\n",
    "            #     cols['resolve_reason'].append('N/A')\n",
    "            cols['status'].append(i.status)\n",
    "            cols['title'].append(i.title)\n",
    "\n",
    "print('Finished building DF')\n",
    "df = pd.DataFrame(cols)"
   ],
   "metadata": {
    "collapsed": false,
    "pycharm": {
     "name": "#%%\n",
     "is_executing": false
    }
   }
  },
  {
   "cell_type": "code",
   "execution_count": null,
   "outputs": [],
   "source": [
    "df.info()"
   ],
   "metadata": {
    "collapsed": false,
    "pycharm": {
     "name": "#%%\n",
     "is_executing": false
    }
   }
  },
  {
   "cell_type": "code",
   "execution_count": null,
   "outputs": [],
   "source": [
    "df.head()"
   ],
   "metadata": {
    "collapsed": false,
    "pycharm": {
     "name": "#%%\n",
     "is_executing": false
    }
   }
  },
  {
   "cell_type": "code",
   "execution_count": null,
   "outputs": [],
   "source": [
    "ss = df.service\n",
    "ss.reset_index(drop=True)"
   ],
   "metadata": {
    "collapsed": false,
    "pycharm": {
     "name": "#%%\n",
     "is_executing": false
    }
   }
  },
  {
   "cell_type": "code",
   "execution_count": null,
   "outputs": [],
   "source": [
    "import matplotlib.pyplot as pl\n",
    "%matplotlib inline"
   ],
   "metadata": {
    "collapsed": false,
    "pycharm": {
     "name": "#%%\n",
     "is_executing": false
    }
   }
  },
  {
   "cell_type": "code",
   "execution_count": null,
   "outputs": [],
   "source": [
    "srv = df['service'].value_counts()\n",
    "srv.plot()"
   ],
   "metadata": {
    "collapsed": false,
    "pycharm": {
     "name": "#%%\n",
     "is_executing": false
    }
   }
  },
  {
   "cell_type": "code",
   "execution_count": null,
   "outputs": [],
   "source": [],
   "metadata": {
    "collapsed": false,
    "pycharm": {
     "name": "#%%\n"
    }
   }
  },
  {
   "cell_type": "code",
   "execution_count": null,
   "outputs": [],
   "source": [],
   "metadata": {
    "collapsed": false,
    "pycharm": {
     "name": "#%%\n"
    }
   }
  }
 ],
 "metadata": {
  "kernelspec": {
   "display_name": "Python 3",
   "language": "python",
   "name": "python3"
  },
  "language_info": {
   "codemirror_mode": {
    "name": "ipython",
    "version": 2
   },
   "file_extension": ".py",
   "mimetype": "text/x-python",
   "name": "python",
   "nbconvert_exporter": "python",
   "pygments_lexer": "ipython2",
   "version": "2.7.6"
  },
  "pycharm": {
   "stem_cell": {
    "cell_type": "raw",
    "source": [],
    "metadata": {
     "collapsed": false
    }
   }
  }
 },
 "nbformat": 4,
 "nbformat_minor": 0
}